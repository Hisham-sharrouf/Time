{
 "cells": [
  {
   "cell_type": "markdown",
   "metadata": {},
   "source": [
    "<div data-ux=\"Block\" speed=\"-1.5\" oversizespeed=\"1.5\" excludedbreakpoints=\"\" id=\"header_parallax7866\" class=\"x-el x-el-div c1-1 c1-2 c1-4 c1-p c1-v c1-w c1-y c1-4k c1-27 c1-29 c1-i c1-b c1-c c1-d c1-4m c1-4n c1-4o c1-2f c1-e c1-f c1-g\" style=\"transform: none; opacity: 1;\"><div data-ux=\"Container\" class=\"x-el x-el-div c1-1 c1-2 c1-48 c1-47 c1-1w c1-1x c1-1y c1-b c1-c c1-4p c1-d c1-4q c1-21 c1-22 c1-4r c1-4s c1-4t c1-e c1-4u c1-f c1-4v c1-g\"><div data-ux=\"Hero\" class=\"x-el x-el-div c1-1 c1-2 c1-4w c1-4x c1-o c1-27 c1-29 c1-4y c1-4z c1-4 c1-2m c1-b c1-c c1-d c1-21 c1-50 c1-51 c1-52 c1-53 c1-22 c1-54 c1-55 c1-56 c1-57 c1-58 c1-e c1-f c1-g\"><div data-ux=\"Container\" class=\"x-el x-el-div c1-1 c1-2 c1-48 c1-47 c1-3j c1-3i c1-1y c1-59 c1-2i c1-2k c1-27 c1-29 c1-3k c1-b c1-c c1-4p c1-d c1-4q c1-e c1-4u c1-f c1-4v c1-g\"><div data-ux=\"Element\" id=\"tagline-container-7867\" class=\"x-el x-el-div c1-1 c1-2 c1-34 c1-2n c1-5a c1-5b c1-o c1-1y c1-b c1-c c1-d c1-e c1-f c1-g\" style=\"\"><h1 role=\"heading\" aria-level=\"1\" data-ux=\"Tagline\" data-aid=\"HEADER_TAGLINE_RENDERED\" id=\"dynamic-tagline-7868\" data-typography=\"HeadingAlpha\" class=\"x-el x-el-h1 c1-2s c1-2t c1-34 c1-2n c1-5a c1-48 c1-47 c1-27 c1-29 c1-5c c1-1y c1-2u c1-2v c1-5d c1-5e c1-5f c1-3s c1-3t c1-3u c1-3v c1-5g c1-5h c1-5i c1-5j\" style=\"font-size: 40px;\">Welcome To MAPSGEO</h1><span role=\"heading\" aria-level=\"NaN\" data-ux=\"scaler\" data-size=\"xxxlarge\" data-scaler-id=\"scaler-tagline-container-7867\" aria-hidden=\"true\" data-typography=\"HeadingAlpha\" class=\"x-el x-el-span c1-2s c1-2t c1-5k c1-5l c1-5a c1-48 c1-47 c1-27 c1-29 c1-5c c1-1y c1-46 c1-4i c1-5m c1-3b c1-5n c1-5o c1-5e c1-2v c1-5d c1-5f c1-3s c1-3t c1-3u c1-3v c1-5g c1-5h c1-5i c1-5j\" style=\"display: none;\">Welcome to Mapsgeo</span><span role=\"heading\" aria-level=\"NaN\" data-ux=\"scaler\" data-size=\"xxlarge\" data-scaler-id=\"scaler-tagline-container-7867\" aria-hidden=\"true\" data-typography=\"HeadingAlpha\" class=\"x-el x-el-span c1-2s c1-2t c1-5k c1-5l c1-5a c1-48 c1-47 c1-27 c1-29 c1-5c c1-1y c1-46 c1-4i c1-5m c1-3b c1-5n c1-5o c1-5p c1-2v c1-5d c1-5f c1-3s c1-3t c1-3u c1-3v c1-5q c1-5r c1-5s c1-5t\" style=\"display: none;\">Welcome to Mapsgeo</span><span role=\"heading\" aria-level=\"NaN\" data-ux=\"scaler\" data-size=\"xlarge\" data-scaler-id=\"scaler-tagline-container-7867\" aria-hidden=\"true\" data-typography=\"HeadingAlpha\" class=\"x-el x-el-span c1-2s c1-2t c1-5k c1-5l c1-5a c1-48 c1-47 c1-27 c1-29 c1-5c c1-1y c1-46 c1-4i c1-5m c1-3b c1-5n c1-5o c1-5u c1-2v c1-5d c1-5f c1-3s c1-3t c1-3u c1-3v c1-5v c1-5w c1-5x c1-5y\" style=\"display: none;\">Welcome to Mapsgeo</span></div></div><div data-ux=\"HeroText\" data-aid=\"HEADER_TAGLINE2_RENDERED\" data-typography=\"BodyBeta\" class=\"x-el c1-1 c1-2 c1-34 c1-2n c1-5z c1-27 c1-29 c1-1y c1-60 c1-61 c1-62 c1-63 c1-b c1-5d c1-64 c1-65 c1-66 c1-67 c1-68 c1-69 x-rt\"><p style=\"margin:0\"><span class=\"x-el x-el-span c1-6g c1-6h c1-b c1-64 c1-66 c1-67 c1-68 c1-69\"><em class=\"x-el x-el-span c1-31 c1-32 c1-6a c1-6b c1-3d c1-6c c1-6d c1-b\">A leading provider of Satellite Imagery, GIS mapping and Remote Sensing Services</em></span></p><p style=\"margin:0\"><span class=\"x-el x-el-span c1-6g c1-6h c1-b c1-64 c1-66 c1-67 c1-68 c1-69\"><em class=\"x-el x-el-span c1-31 c1-32 c1-6a c1-6b c1-3d c1-6c c1-6d c1-b\">supporting all engineering firms&nbsp;</em></span></p></div></div></div></div>"
   ]
  },
  {
   "cell_type": "markdown",
   "metadata": {},
   "source": [
    "## Timelapse\n"
   ]
  },
  {
   "cell_type": "code",
   "execution_count": 54,
   "metadata": {},
   "outputs": [],
   "source": [
    "import os\n",
    "import ee\n",
    "import geemap\n",
    "import ipywidgets as widgets"
   ]
  },
  {
   "cell_type": "markdown",
   "metadata": {},
   "source": [
    "<h1>\n",
    "<br>\n",
    " <br>\n",
    " </h1>\n",
    "<center> <h1  style=\"background-color:#7CCAff; color:white;\"> Select your area by one of the tools on the left </h1></center>\n",
    "<h1>\n",
    "<br>   \n",
    "</h1>"
   ]
  },
  {
   "cell_type": "code",
   "execution_count": 55,
   "metadata": {},
   "outputs": [
    {
     "data": {
      "application/vnd.jupyter.widget-view+json": {
       "model_id": "568e09d7123b43c9973115f13c1ded61",
       "version_major": 2,
       "version_minor": 0
      },
      "text/plain": [
       "Map(center=[33.87, 35.9], controls=(WidgetControl(options=['position'], widget=HBox(children=(ToggleButton(val…"
      ]
     },
     "metadata": {},
     "output_type": "display_data"
    }
   ],
   "source": [
    "Map = geemap.Map(center=(33.87, 35.9), zoom=5,add_google_map=False)\n",
    "Map"
   ]
  },
  {
   "cell_type": "code",
   "execution_count": 56,
   "metadata": {},
   "outputs": [],
   "source": [
    "out_dir = os.path.join(os.path.expanduser('~'), 'Downloads')\n",
    "if not os.path.exists(out_dir):\n",
    "    os.makedirs(out_dir)"
   ]
  },
  {
   "cell_type": "code",
   "execution_count": 57,
   "metadata": {},
   "outputs": [],
   "source": [
    "style = {'description_width': 'initial'}\n",
    "title = widgets.Text(\n",
    "    description='Title:',\n",
    "    value='Landsat Timelapse',\n",
    "    width=200,\n",
    "    style=style\n",
    ")"
   ]
  },
  {
   "cell_type": "code",
   "execution_count": 58,
   "metadata": {},
   "outputs": [],
   "source": [
    "bands = widgets.Dropdown(\n",
    "    description='Select RGB Combo:',\n",
    "    options=['Red/Green/Blue', 'NIR/Red/Green',  'SWIR2/SWIR1/NIR', 'NIR/SWIR1/Red','SWIR2/NIR/Red', \n",
    "             'SWIR2/SWIR1/Red', 'SWIR1/NIR/Blue', 'NIR/SWIR1/Blue', 'SWIR2/NIR/Green', 'SWIR1/NIR/Red'],\n",
    "    value='NIR/Red/Green',\n",
    "    style=style\n",
    ")"
   ]
  },
  {
   "cell_type": "code",
   "execution_count": 59,
   "metadata": {},
   "outputs": [
    {
     "data": {
      "application/vnd.jupyter.widget-view+json": {
       "model_id": "4ac743a6da34445f9a4b2b9b4d858b59",
       "version_major": 2,
       "version_minor": 0
      },
      "text/plain": [
       "HBox(children=(Text(value='Landsat Timelapse', description='Title:', style=DescriptionStyle(description_width=…"
      ]
     },
     "metadata": {},
     "output_type": "display_data"
    }
   ],
   "source": [
    "hbox1 = widgets.HBox([title, bands])\n",
    "hbox1"
   ]
  },
  {
   "cell_type": "code",
   "execution_count": 60,
   "metadata": {},
   "outputs": [],
   "source": [
    "start_year = widgets.IntSlider(description='Start Year:', value=1984, min=1984, max=2020, style=style)"
   ]
  },
  {
   "cell_type": "code",
   "execution_count": 61,
   "metadata": {},
   "outputs": [],
   "source": [
    "end_year = widgets.IntSlider(description='End Year:', value=2020, min=1984, max=2020, style=style)"
   ]
  },
  {
   "cell_type": "code",
   "execution_count": 62,
   "metadata": {},
   "outputs": [
    {
     "data": {
      "application/vnd.jupyter.widget-view+json": {
       "model_id": "0d07348745854859b0bdea727c231a0b",
       "version_major": 2,
       "version_minor": 0
      },
      "text/plain": [
       "HBox(children=(IntSlider(value=1984, description='Start Year:', max=2020, min=1984, style=SliderStyle(descript…"
      ]
     },
     "metadata": {},
     "output_type": "display_data"
    }
   ],
   "source": [
    "hbox2 = widgets.HBox([start_year, end_year])\n",
    "hbox2"
   ]
  },
  {
   "cell_type": "code",
   "execution_count": 63,
   "metadata": {},
   "outputs": [],
   "source": [
    "speed = widgets.IntSlider(\n",
    "    description='Frames per second:',\n",
    "    tooltip='Frames per second:',\n",
    "    value=10,\n",
    "    min=1, \n",
    "    max = 30,\n",
    "    style=style\n",
    ")"
   ]
  },
  {
   "cell_type": "code",
   "execution_count": 64,
   "metadata": {},
   "outputs": [],
   "source": [
    "download = widgets.Checkbox(\n",
    "    value=False,\n",
    "    description='Download the GIF',\n",
    "    style=style\n",
    ")"
   ]
  },
  {
   "cell_type": "code",
   "execution_count": 65,
   "metadata": {},
   "outputs": [
    {
     "data": {
      "application/vnd.jupyter.widget-view+json": {
       "model_id": "ebb354a5577f4b8da6f59efadee90741",
       "version_major": 2,
       "version_minor": 0
      },
      "text/plain": [
       "HBox(children=(IntSlider(value=10, description='Frames per second:', max=30, min=1, style=SliderStyle(descript…"
      ]
     },
     "metadata": {},
     "output_type": "display_data"
    }
   ],
   "source": [
    "hbox3 = widgets.HBox([speed, download])\n",
    "hbox3"
   ]
  },
  {
   "cell_type": "code",
   "execution_count": 66,
   "metadata": {},
   "outputs": [],
   "source": [
    "font_size = widgets.IntSlider(description='Font size:', value=30, min=10, max=50, style=style)"
   ]
  },
  {
   "cell_type": "code",
   "execution_count": 67,
   "metadata": {},
   "outputs": [],
   "source": [
    "font_color = widgets.ColorPicker(\n",
    "    concise=False,\n",
    "    description='Font color:',\n",
    "    value='white',\n",
    "    style=style\n",
    ")"
   ]
  },
  {
   "cell_type": "code",
   "execution_count": 68,
   "metadata": {},
   "outputs": [],
   "source": [
    "progress_bar_color = widgets.ColorPicker(\n",
    "    concise=False,\n",
    "    description='Progress bar color:',\n",
    "    value='blue',\n",
    "    style=style\n",
    ")"
   ]
  },
  {
   "cell_type": "code",
   "execution_count": 69,
   "metadata": {},
   "outputs": [
    {
     "data": {
      "application/vnd.jupyter.widget-view+json": {
       "model_id": "cc59c0a7e5994134889fd629e0f93208",
       "version_major": 2,
       "version_minor": 0
      },
      "text/plain": [
       "HBox(children=(IntSlider(value=30, description='Font size:', max=50, min=10, style=SliderStyle(description_wid…"
      ]
     },
     "metadata": {},
     "output_type": "display_data"
    }
   ],
   "source": [
    "hbox4 = widgets.HBox([font_size, font_color, progress_bar_color])\n",
    "hbox4"
   ]
  },
  {
   "cell_type": "code",
   "execution_count": 70,
   "metadata": {},
   "outputs": [],
   "source": [
    "submit = widgets.Button(\n",
    "    description='Submit',\n",
    "    button_style='primary',\n",
    "    tooltip='Click the submit the request to create timelapse',\n",
    "    style=style\n",
    ")\n",
    "\n",
    "output = widgets.Output()"
   ]
  },
  {
   "cell_type": "code",
   "execution_count": 75,
   "metadata": {},
   "outputs": [],
   "source": [
    "def submit_clicked(b):\n",
    "    \n",
    "    with output:\n",
    "        output.clear_output()\n",
    "        if start_year.value >= end_year.value:\n",
    "            print('The end year must be great than the start year.')\n",
    "            return\n",
    "        print('Computing...')\n",
    "        \n",
    "\n",
    "        \n",
    "        collection = geemap.landsat_timeseries(roi=Map.user_roi, start_year=start_year.value, end_year=end_year.value,\n",
    "                                               start_date='05-01', end_date='10-31')\n",
    "        \n",
    "        \n",
    "        first_image = collection.first()\n",
    "        Map.addLayer(first_image, {'bands':bands.value.split('/')}, 'First image')\n",
    "        image = collection.toBands()\n",
    "        Map.addLayer(image, {}, \"Time series\", False)\n",
    "        labels = [str(n).zfill(2)  for n in range(start_year.value, end_year.value+1)]\n",
    "        Map.add_time_slider(collection, {'bands':bands.value.split('/'),'min': 0,'max': 4000,'gamma': [1, 1, 1]}, labels=labels, time_interval=speed.value)\n",
    "        \n",
    "        Map.add_landsat_ts_gif(roi=Map.user_roi, label=title.value, start_year=start_year.value, \n",
    "                               end_year=end_year.value, start_date='05-01', end_date='10-31', \n",
    "                               bands=bands.value.split('/'), font_color=font_color.value, \n",
    "                               frames_per_second=speed.value, font_size=font_size.value, \n",
    "                               progress_bar_color=progress_bar_color.value, download=download.value) \n",
    "                               \n",
    "\n",
    "land_layer = Map.layers[-1]\n",
    "land_layer.interact(opacity=(0, 1, 0.1))\n",
    "        \n",
    "            \n",
    "submit.on_click(submit_clicked)"
   ]
  },
  {
   "cell_type": "code",
   "execution_count": 76,
   "metadata": {},
   "outputs": [
    {
     "data": {
      "application/vnd.jupyter.widget-view+json": {
       "model_id": "50060cc4e6424b799e5b58ffb14d8aef",
       "version_major": 2,
       "version_minor": 0
      },
      "text/plain": [
       "Button(button_style='primary', description='Submit', style=ButtonStyle(), tooltip='Click the submit the reques…"
      ]
     },
     "metadata": {},
     "output_type": "display_data"
    }
   ],
   "source": [
    "submit"
   ]
  },
  {
   "cell_type": "code",
   "execution_count": 77,
   "metadata": {},
   "outputs": [
    {
     "data": {
      "application/vnd.jupyter.widget-view+json": {
       "model_id": "7ece80ed94dd46d7966fa9b093150196",
       "version_major": 2,
       "version_minor": 0
      },
      "text/plain": [
       "Output(outputs=({'output_type': 'stream', 'text': 'Computing...\\nTif:\\n', 'name': 'stdout'},))"
      ]
     },
     "metadata": {},
     "output_type": "display_data"
    }
   ],
   "source": [
    "output"
   ]
  },
  {
   "cell_type": "markdown",
   "metadata": {},
   "source": [
    "<h1>\n",
    "<br>\n",
    "<br>\n",
    "<br>\n",
    "<br>\n",
    "<br>   \n",
    "</h1>  \n",
    "\n",
    "<h3 align=\"center\"> © Hisham Sharrouf, Data Science student at LU. </h3>"
   ]
  },
  {
   "cell_type": "code",
   "execution_count": null,
   "metadata": {},
   "outputs": [],
   "source": []
  }
 ],
 "metadata": {
  "hide_input": true,
  "kernelspec": {
   "display_name": "Python 3",
   "language": "python",
   "name": "python3"
  },
  "language_info": {
   "codemirror_mode": {
    "name": "ipython",
    "version": 3
   },
   "file_extension": ".py",
   "mimetype": "text/x-python",
   "name": "python",
   "nbconvert_exporter": "python",
   "pygments_lexer": "ipython3",
   "version": "3.8.2"
  },
  "toc": {
   "base_numbering": 1,
   "nav_menu": {},
   "number_sections": true,
   "sideBar": true,
   "skip_h1_title": true,
   "title_cell": "Table of Contents",
   "title_sidebar": "Table of Contents",
   "toc_cell": false,
   "toc_position": {},
   "toc_section_display": true,
   "toc_window_display": true
  },
  "varInspector": {
   "cols": {
    "lenName": 16,
    "lenType": 16,
    "lenVar": 40
   },
   "kernels_config": {
    "python": {
     "delete_cmd_postfix": "",
     "delete_cmd_prefix": "del ",
     "library": "var_list.py",
     "varRefreshCmd": "print(var_dic_list())"
    },
    "r": {
     "delete_cmd_postfix": ") ",
     "delete_cmd_prefix": "rm(",
     "library": "var_list.r",
     "varRefreshCmd": "cat(var_dic_list()) "
    }
   },
   "types_to_exclude": [
    "module",
    "function",
    "builtin_function_or_method",
    "instance",
    "_Feature"
   ],
   "window_display": false
  }
 },
 "nbformat": 4,
 "nbformat_minor": 4
}
